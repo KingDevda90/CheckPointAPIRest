{
 "cells": [
  {
   "cell_type": "code",
   "execution_count": 71,
   "id": "dd20899f",
   "metadata": {},
   "outputs": [],
   "source": [
    "import requests \n",
    "from PIL import Image\n",
    "from io import BytesIO\n",
    "import pandas as pd"
   ]
  },
  {
   "cell_type": "code",
   "execution_count": 72,
   "id": "0a697bf6",
   "metadata": {},
   "outputs": [],
   "source": [
    "api_key = \"WqbGJjfETechDjf4gt7B2m3mudGgcyi00ts4JUEs\""
   ]
  },
  {
   "cell_type": "code",
   "execution_count": 73,
   "id": "17cab433",
   "metadata": {},
   "outputs": [],
   "source": [
    "url = \"https://api.nasa.gov/planetary/apod\"\n",
    " \n",
    "params = {'api_key': api_key}  # Adjust count as needed\n",
    "\n",
    "# Effectuez la requête\n",
    "response = requests.get(url, params=parametres)"
   ]
  },
  {
   "cell_type": "code",
   "execution_count": 74,
   "id": "96c44458",
   "metadata": {},
   "outputs": [
    {
     "name": "stdout",
     "output_type": "stream",
     "text": [
      "{'date': '2024-01-15', 'explanation': \"Sometimes, it's the stars that are the hardest to see that are the most interesting. IC 348 is a young star cluster that illuminates surrounding filamentary dust.  The stringy and winding dust appears pink in this recently released infrared image from the Webb Space Telescope. In visible light, this dust reflects mostly blue light, giving the surrounding material the familiar blue hue of a reflection nebula.  Besides bright stars, several cool objects have been located in IC 348, visible because they glow brighter in infrared light.  These objects are hypothesized to be low mass brown dwarfs.  Evidence for this includes the detection of an unidentified atmospheric chemical, likely a hydrocarbon, seen previously in the atmosphere of Saturn. These objects appear to have masses slightly greater than known planets, only a few times greater than Jupiter.  Together, these indicate that this young star cluster contains something noteworthy -- young planet-mass brown dwarfs that float free, not orbiting any other star.\", 'hdurl': 'https://apod.nasa.gov/apod/image/2401/IC348_webb_3788.jpg', 'media_type': 'image', 'service_version': 'v1', 'title': 'Star Cluster IC 348 from Webb', 'url': 'https://apod.nasa.gov/apod/image/2401/IC348_webb_960.jpg'}\n"
     ]
    }
   ],
   "source": [
    "print(response.json())"
   ]
  },
  {
   "cell_type": "code",
   "execution_count": 75,
   "id": "f344792f",
   "metadata": {},
   "outputs": [],
   "source": [
    "if response.status_code == 200:\n",
    "    image_url = response.json()['url']\n",
    "    image_response = requests.get(image_url)\n",
    "    if image_response.status_code == 200:\n",
    "        image = Image.open(BytesIO(image_response.content))\n",
    "        image.show()\n",
    "    else:\n",
    "        print(f\"Erreur lors du téléchargement de l'image: {image_response.status_code}\")\n",
    "else:\n",
    "    print(f\"Erreur lors de la requête APOD: {response.status_code} - {response.text}\")\n"
   ]
  },
  {
   "cell_type": "code",
   "execution_count": 76,
   "id": "a507881f",
   "metadata": {},
   "outputs": [
    {
     "name": "stdout",
     "output_type": "stream",
     "text": [
      "         date                                        explanation  \\\n",
      "0  2024-01-15  Sometimes, it's the stars that are the hardest...   \n",
      "\n",
      "                                               hdurl media_type  \\\n",
      "0  https://apod.nasa.gov/apod/image/2401/IC348_we...      image   \n",
      "\n",
      "  service_version                          title  \\\n",
      "0              v1  Star Cluster IC 348 from Webb   \n",
      "\n",
      "                                                 url  \n",
      "0  https://apod.nasa.gov/apod/image/2401/IC348_we...  \n"
     ]
    }
   ],
   "source": [
    "if response.status_code == 200:\n",
    "   \n",
    "    data = response.json()\n",
    "\n",
    "   \n",
    "    df = pd.json_normalize(data)\n",
    "\n",
    "    # Display the DataFrame\n",
    "    print(df)\n",
    "\n",
    "    \n",
    "else:\n",
    "    print(f\"Error in APOD request: {response.status_code} - {response.text}\")"
   ]
  },
  {
   "cell_type": "code",
   "execution_count": 85,
   "id": "c5194fa5",
   "metadata": {},
   "outputs": [
    {
     "name": "stdout",
     "output_type": "stream",
     "text": [
      "         date                                        explanation  \\\n",
      "0  2024-01-15  Sometimes, it's the stars that are the hardest...   \n",
      "\n",
      "                                               hdurl media_type  \\\n",
      "0  https://apod.nasa.gov/apod/image/2401/IC348_we...      image   \n",
      "\n",
      "  service_version                          title  \\\n",
      "0              v1  Star Cluster IC 348 from Webb   \n",
      "\n",
      "                                                 url  \n",
      "0  https://apod.nasa.gov/apod/image/2401/IC348_we...  \n"
     ]
    }
   ],
   "source": [
    "# Paramètres de la requête\n",
    "params = {\n",
    "    'api_key': api_key,\n",
    "    'date': '2024-01-15'  # Remplacez cela par la date actuelle ou une date spécifique\n",
    "}\n",
    "\n",
    "# Effectuer la requête\n",
    "response = requests.get(url, params=params)\n",
    "data = response.json()\n",
    "\n",
    "# Créer un DataFrame à partir des données\n",
    "df = pd.DataFrame([data])\n",
    "\n",
    "# Afficher le DataFrame\n",
    "print(df)"
   ]
  },
  {
   "cell_type": "code",
   "execution_count": 92,
   "id": "c6cf93a8",
   "metadata": {},
   "outputs": [],
   "source": [
    "df.to_csv('/Users/mac/Documents/Code R et Python pour D.S/asteroid_data.csv', index=False)"
   ]
  },
  {
   "cell_type": "code",
   "execution_count": null,
   "id": "34ac44c0",
   "metadata": {},
   "outputs": [],
   "source": []
  }
 ],
 "metadata": {
  "kernelspec": {
   "display_name": "Python 3 (ipykernel)",
   "language": "python",
   "name": "python3"
  },
  "language_info": {
   "codemirror_mode": {
    "name": "ipython",
    "version": 3
   },
   "file_extension": ".py",
   "mimetype": "text/x-python",
   "name": "python",
   "nbconvert_exporter": "python",
   "pygments_lexer": "ipython3",
   "version": "3.7.16"
  }
 },
 "nbformat": 4,
 "nbformat_minor": 5
}
